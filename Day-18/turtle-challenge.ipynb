{
 "cells": [
  {
   "cell_type": "code",
   "execution_count": 3,
   "metadata": {},
   "outputs": [],
   "source": [
    "from turtle import Turtle,Screen"
   ]
  },
  {
   "cell_type": "markdown",
   "metadata": {},
   "source": [
    "'''\n",
    "#IMPORT \n",
    "import turtle\n",
    "tim = turtle.Turtle()\n",
    "#YOU HAVE TO USE THE CLASSES IN THE MODULE IN THIS WAY.\n",
    "'''\n",
    "\n",
    "\n",
    "'''\n",
    "#IMPORT ALL\n",
    "\n",
    "#import turtle *   //ALL// //THIS WILL IMPORT ALL THE CLASSES IN THE MODULE//\n",
    "forward(100)\n",
    "turtle()\n",
    "\n",
    "THIS IS NOT A GOOD PRACTICE TO USE. BECAUSE, INCASE WE ARE USING MANY MODULES AND IF WE USE IN THIS WAY, IT WOULD BE DIFFICULT TO KNOW WHERE\n",
    "THIS FUNCTION CAME FROM!\n",
    "'''\n",
    "\n",
    "'''\n",
    "#IMPORT FROM\n",
    "\n",
    "form turtle import Turtle\n",
    "tim = Turtle()\n",
    "'''\n",
    "\n",
    "'''\n",
    "#IMPORT AS\n",
    "\n",
    "#import turtle as t  //ALIASING//\n",
    "For this every time you call this module, instead of using turtle.Turtle()\n",
    "You can use t.Turtle()\n",
    "'''"
   ]
  },
  {
   "cell_type": "code",
   "execution_count": 4,
   "metadata": {},
   "outputs": [],
   "source": [
    "timmy_turtle   = Turtle()\n",
    "timmy_turtle.shape('turtle')\n",
    "timmy_turtle.color('red')"
   ]
  },
  {
   "cell_type": "code",
   "execution_count": 5,
   "metadata": {},
   "outputs": [
    {
     "ename": "",
     "evalue": "",
     "output_type": "error",
     "traceback": [
      "\u001b[1;31mThe Kernel crashed while executing code in the current cell or a previous cell. \n",
      "\u001b[1;31mPlease review the code in the cell(s) to identify a possible cause of the failure. \n",
      "\u001b[1;31mClick <a href='https://aka.ms/vscodeJupyterKernelCrash'>here</a> for more info. \n",
      "\u001b[1;31mView Jupyter <a href='command:jupyter.viewOutput'>log</a> for further details."
     ]
    }
   ],
   "source": [
    "#DRAW THE SQUARE WITH THE TURTLE\n",
    "\n",
    "timmy_turtle.forward(100)\n",
    "timmy_turtle.left(90)\n",
    "timmy_turtle.forward(100)\n",
    "timmy_turtle.left(90)\n",
    "timmy_turtle.forward(100)\n",
    "timmy_turtle.left(90)\n",
    "timmy_turtle.forward(100)"
   ]
  },
  {
   "cell_type": "code",
   "execution_count": null,
   "metadata": {},
   "outputs": [],
   "source": []
  }
 ],
 "metadata": {
  "kernelspec": {
   "display_name": "base",
   "language": "python",
   "name": "python3"
  },
  "language_info": {
   "codemirror_mode": {
    "name": "ipython",
    "version": 3
   },
   "file_extension": ".py",
   "mimetype": "text/x-python",
   "name": "python",
   "nbconvert_exporter": "python",
   "pygments_lexer": "ipython3",
   "version": "3.9.7"
  }
 },
 "nbformat": 4,
 "nbformat_minor": 2
}
